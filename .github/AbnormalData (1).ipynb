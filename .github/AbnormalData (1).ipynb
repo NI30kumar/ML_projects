{
 "cells": [
  {
   "cell_type": "markdown",
   "metadata": {},
   "source": [
    "# Finding abnormal behaviour in the data"
   ]
  },
  {
   "cell_type": "code",
   "execution_count": 49,
   "metadata": {},
   "outputs": [],
   "source": [
    "# Importing the required libraries.\n",
    "import os\n",
    "import pandas as pd\n",
    "import numpy as np\n",
    "\n",
    "%matplotlib inline \n",
    "\n",
    "import matplotlib\n",
    "import matplotlib.pyplot as plt \n",
    "\n",
    "import seaborn as sns\n",
    "\n",
    "import warnings\n",
    "warnings.filterwarnings('ignore')"
   ]
  },
  {
   "cell_type": "code",
   "execution_count": 50,
   "metadata": {},
   "outputs": [
    {
     "data": {
      "text/plain": [
       "'C:\\\\Users\\\\Nitish'"
      ]
     },
     "execution_count": 50,
     "metadata": {},
     "output_type": "execute_result"
    }
   ],
   "source": [
    "#Checking the working doirectory.\n",
    "os.getcwd()"
   ]
  },
  {
   "cell_type": "code",
   "execution_count": 51,
   "metadata": {},
   "outputs": [],
   "source": [
    "# Loading the given data.\n",
    "path=\"C:/Users/Nitish/Downloads\"\n",
    "DF = pd.read_excel(path+\"/Data.xlsx\")"
   ]
  },
  {
   "cell_type": "code",
   "execution_count": 52,
   "metadata": {},
   "outputs": [
    {
     "data": {
      "text/html": [
       "<div>\n",
       "<style scoped>\n",
       "    .dataframe tbody tr th:only-of-type {\n",
       "        vertical-align: middle;\n",
       "    }\n",
       "\n",
       "    .dataframe tbody tr th {\n",
       "        vertical-align: top;\n",
       "    }\n",
       "\n",
       "    .dataframe thead th {\n",
       "        text-align: right;\n",
       "    }\n",
       "</style>\n",
       "<table border=\"1\" class=\"dataframe\">\n",
       "  <thead>\n",
       "    <tr style=\"text-align: right;\">\n",
       "      <th></th>\n",
       "      <th>Date_Time</th>\n",
       "      <th>IP_Address</th>\n",
       "      <th>Vendor_Name</th>\n",
       "      <th>Type</th>\n",
       "    </tr>\n",
       "  </thead>\n",
       "  <tbody>\n",
       "    <tr>\n",
       "      <td>0</td>\n",
       "      <td>July 8th 2019, 14:43:03.000</td>\n",
       "      <td>10.1.1.285</td>\n",
       "      <td>Vendor-1</td>\n",
       "      <td>INVOICE</td>\n",
       "    </tr>\n",
       "    <tr>\n",
       "      <td>1</td>\n",
       "      <td>July 8th 2019, 14:43:01.000</td>\n",
       "      <td>10.1.2.389</td>\n",
       "      <td>Vendor-1</td>\n",
       "      <td>INVOICE</td>\n",
       "    </tr>\n",
       "    <tr>\n",
       "      <td>2</td>\n",
       "      <td>July 8th 2019, 14:42:59.000</td>\n",
       "      <td>10.1.1.415</td>\n",
       "      <td>Vendor-1</td>\n",
       "      <td>PRE_APPROVAL</td>\n",
       "    </tr>\n",
       "    <tr>\n",
       "      <td>3</td>\n",
       "      <td>July 8th 2019, 14:42:57.000</td>\n",
       "      <td>10.1.1.79</td>\n",
       "      <td>Vendor-1</td>\n",
       "      <td>PRE_APPROVAL</td>\n",
       "    </tr>\n",
       "    <tr>\n",
       "      <td>4</td>\n",
       "      <td>July 8th 2019, 14:42:55.000</td>\n",
       "      <td>10.1.1.60</td>\n",
       "      <td>Vendor-10</td>\n",
       "      <td>IPC</td>\n",
       "    </tr>\n",
       "  </tbody>\n",
       "</table>\n",
       "</div>"
      ],
      "text/plain": [
       "                     Date_Time  IP_Address Vendor_Name          Type\n",
       "0  July 8th 2019, 14:43:03.000  10.1.1.285    Vendor-1       INVOICE\n",
       "1  July 8th 2019, 14:43:01.000  10.1.2.389    Vendor-1       INVOICE\n",
       "2  July 8th 2019, 14:42:59.000  10.1.1.415    Vendor-1  PRE_APPROVAL\n",
       "3  July 8th 2019, 14:42:57.000   10.1.1.79    Vendor-1  PRE_APPROVAL\n",
       "4  July 8th 2019, 14:42:55.000   10.1.1.60   Vendor-10           IPC"
      ]
     },
     "execution_count": 52,
     "metadata": {},
     "output_type": "execute_result"
    }
   ],
   "source": [
    "# Checking if data is loaded properly .\n",
    "DF.head()"
   ]
  },
  {
   "cell_type": "raw",
   "metadata": {},
   "source": [
    " -------------------- EDA ---------------------"
   ]
  },
  {
   "cell_type": "code",
   "execution_count": 53,
   "metadata": {},
   "outputs": [
    {
     "name": "stdout",
     "output_type": "stream",
     "text": [
      "<class 'pandas.core.frame.DataFrame'>\n",
      "RangeIndex: 396220 entries, 0 to 396219\n",
      "Data columns (total 4 columns):\n",
      "Date_Time      396220 non-null object\n",
      "IP_Address     396191 non-null object\n",
      "Vendor_Name    396217 non-null object\n",
      "Type           391412 non-null object\n",
      "dtypes: object(4)\n",
      "memory usage: 12.1+ MB\n"
     ]
    }
   ],
   "source": [
    "# Checking the info about datatype and count .\n",
    "DF.info()"
   ]
  },
  {
   "cell_type": "code",
   "execution_count": 54,
   "metadata": {},
   "outputs": [
    {
     "data": {
      "text/plain": [
       "Date_Time         0\n",
       "IP_Address       29\n",
       "Vendor_Name       3\n",
       "Type           4808\n",
       "dtype: int64"
      ]
     },
     "execution_count": 54,
     "metadata": {},
     "output_type": "execute_result"
    }
   ],
   "source": [
    "# Checking the missing values if any in the given data.\n",
    "DF.isna().sum()"
   ]
  },
  {
   "cell_type": "code",
   "execution_count": 55,
   "metadata": {},
   "outputs": [],
   "source": [
    "# Handling Missing values for each column."
   ]
  },
  {
   "cell_type": "code",
   "execution_count": 56,
   "metadata": {},
   "outputs": [
    {
     "data": {
      "text/html": [
       "<div>\n",
       "<style scoped>\n",
       "    .dataframe tbody tr th:only-of-type {\n",
       "        vertical-align: middle;\n",
       "    }\n",
       "\n",
       "    .dataframe tbody tr th {\n",
       "        vertical-align: top;\n",
       "    }\n",
       "\n",
       "    .dataframe thead th {\n",
       "        text-align: right;\n",
       "    }\n",
       "</style>\n",
       "<table border=\"1\" class=\"dataframe\">\n",
       "  <thead>\n",
       "    <tr style=\"text-align: right;\">\n",
       "      <th></th>\n",
       "      <th>Date_Time</th>\n",
       "      <th>IP_Address</th>\n",
       "      <th>Vendor_Name</th>\n",
       "      <th>Type</th>\n",
       "    </tr>\n",
       "  </thead>\n",
       "  <tbody>\n",
       "  </tbody>\n",
       "</table>\n",
       "</div>"
      ],
      "text/plain": [
       "Empty DataFrame\n",
       "Columns: [Date_Time, IP_Address, Vendor_Name, Type]\n",
       "Index: []"
      ]
     },
     "execution_count": 56,
     "metadata": {},
     "output_type": "execute_result"
    }
   ],
   "source": [
    "#As missing values for IP_Adress is very low .\n",
    "#So better we drop the rows where IP address is missing.\n",
    "DF.dropna(subset= ['IP_Address'], inplace = True)\n",
    "DF[DF['IP_Address'].isnull()].head(5)"
   ]
  },
  {
   "cell_type": "code",
   "execution_count": 57,
   "metadata": {},
   "outputs": [
    {
     "data": {
      "text/html": [
       "<div>\n",
       "<style scoped>\n",
       "    .dataframe tbody tr th:only-of-type {\n",
       "        vertical-align: middle;\n",
       "    }\n",
       "\n",
       "    .dataframe tbody tr th {\n",
       "        vertical-align: top;\n",
       "    }\n",
       "\n",
       "    .dataframe thead th {\n",
       "        text-align: right;\n",
       "    }\n",
       "</style>\n",
       "<table border=\"1\" class=\"dataframe\">\n",
       "  <thead>\n",
       "    <tr style=\"text-align: right;\">\n",
       "      <th></th>\n",
       "      <th>Date_Time</th>\n",
       "      <th>IP_Address</th>\n",
       "      <th>Vendor_Name</th>\n",
       "      <th>Type</th>\n",
       "    </tr>\n",
       "  </thead>\n",
       "  <tbody>\n",
       "  </tbody>\n",
       "</table>\n",
       "</div>"
      ],
      "text/plain": [
       "Empty DataFrame\n",
       "Columns: [Date_Time, IP_Address, Vendor_Name, Type]\n",
       "Index: []"
      ]
     },
     "execution_count": 57,
     "metadata": {},
     "output_type": "execute_result"
    }
   ],
   "source": [
    "# For Vendor_Name only 3 values are missing which is negligible compared to the data available.\n",
    "# So dropping it won't affect much.\n",
    "DF.dropna(subset= ['Vendor_Name'], inplace = True)\n",
    "DF[DF['Vendor_Name'].isnull()].head(5)"
   ]
  },
  {
   "cell_type": "code",
   "execution_count": 58,
   "metadata": {},
   "outputs": [
    {
     "data": {
      "text/plain": [
       "1.2130604662432987"
      ]
     },
     "execution_count": 58,
     "metadata": {},
     "output_type": "execute_result"
    }
   ],
   "source": [
    "# For Type variable,we will check what percentage of data is missing.\n",
    "DF['Type'].isna().sum()*100/DF['Type'].shape[0]"
   ]
  },
  {
   "cell_type": "code",
   "execution_count": 59,
   "metadata": {},
   "outputs": [
    {
     "data": {
      "text/html": [
       "<div>\n",
       "<style scoped>\n",
       "    .dataframe tbody tr th:only-of-type {\n",
       "        vertical-align: middle;\n",
       "    }\n",
       "\n",
       "    .dataframe tbody tr th {\n",
       "        vertical-align: top;\n",
       "    }\n",
       "\n",
       "    .dataframe thead th {\n",
       "        text-align: right;\n",
       "    }\n",
       "</style>\n",
       "<table border=\"1\" class=\"dataframe\">\n",
       "  <thead>\n",
       "    <tr style=\"text-align: right;\">\n",
       "      <th></th>\n",
       "      <th>Date_Time</th>\n",
       "      <th>IP_Address</th>\n",
       "      <th>Vendor_Name</th>\n",
       "      <th>Type</th>\n",
       "    </tr>\n",
       "  </thead>\n",
       "  <tbody>\n",
       "  </tbody>\n",
       "</table>\n",
       "</div>"
      ],
      "text/plain": [
       "Empty DataFrame\n",
       "Columns: [Date_Time, IP_Address, Vendor_Name, Type]\n",
       "Index: []"
      ]
     },
     "execution_count": 59,
     "metadata": {},
     "output_type": "execute_result"
    }
   ],
   "source": [
    "# only 1 % , so we can drop it too.\n",
    "DF.dropna(subset= ['Type'], inplace = True)\n",
    "DF[DF['Type'].isnull()].head(5)"
   ]
  },
  {
   "cell_type": "code",
   "execution_count": 60,
   "metadata": {},
   "outputs": [
    {
     "data": {
      "text/plain": [
       "Date_Time      0\n",
       "IP_Address     0\n",
       "Vendor_Name    0\n",
       "Type           0\n",
       "dtype: int64"
      ]
     },
     "execution_count": 60,
     "metadata": {},
     "output_type": "execute_result"
    }
   ],
   "source": [
    "# Veriifying if missing values are handled properly.\n",
    "DF.isna().sum()"
   ]
  },
  {
   "cell_type": "code",
   "execution_count": 61,
   "metadata": {},
   "outputs": [],
   "source": [
    "# We can see that , there are no missing values present in the data now."
   ]
  },
  {
   "cell_type": "code",
   "execution_count": 62,
   "metadata": {},
   "outputs": [
    {
     "data": {
      "text/html": [
       "<div>\n",
       "<style scoped>\n",
       "    .dataframe tbody tr th:only-of-type {\n",
       "        vertical-align: middle;\n",
       "    }\n",
       "\n",
       "    .dataframe tbody tr th {\n",
       "        vertical-align: top;\n",
       "    }\n",
       "\n",
       "    .dataframe thead th {\n",
       "        text-align: right;\n",
       "    }\n",
       "</style>\n",
       "<table border=\"1\" class=\"dataframe\">\n",
       "  <thead>\n",
       "    <tr style=\"text-align: right;\">\n",
       "      <th></th>\n",
       "      <th>column</th>\n",
       "      <th>values</th>\n",
       "    </tr>\n",
       "  </thead>\n",
       "  <tbody>\n",
       "    <tr>\n",
       "      <td>0</td>\n",
       "      <td>Date_Time</td>\n",
       "      <td>391281</td>\n",
       "    </tr>\n",
       "    <tr>\n",
       "      <td>0</td>\n",
       "      <td>IP_Address</td>\n",
       "      <td>386</td>\n",
       "    </tr>\n",
       "    <tr>\n",
       "      <td>0</td>\n",
       "      <td>Vendor_Name</td>\n",
       "      <td>619</td>\n",
       "    </tr>\n",
       "    <tr>\n",
       "      <td>0</td>\n",
       "      <td>Type</td>\n",
       "      <td>6</td>\n",
       "    </tr>\n",
       "  </tbody>\n",
       "</table>\n",
       "</div>"
      ],
      "text/plain": [
       "        column  values\n",
       "0    Date_Time  391281\n",
       "0   IP_Address     386\n",
       "0  Vendor_Name     619\n",
       "0         Type       6"
      ]
     },
     "execution_count": 62,
     "metadata": {},
     "output_type": "execute_result"
    }
   ],
   "source": [
    "# As most of the given variables are objects , lets check if we can find some categories among them.\n",
    "tmp = pd.DataFrame()\n",
    "DF_stats= pd.DataFrame(columns = ['column', 'values'])\n",
    "for i in DF.columns :\n",
    "    tmp['column'] = [i]\n",
    "    tmp['values'] = [DF[i].nunique()]\n",
    "    DF_stats = DF_stats.append(tmp)\n",
    "DF_stats"
   ]
  },
  {
   "cell_type": "raw",
   "metadata": {},
   "source": [
    " Now we will do Univariate Analysis of each Variables ."
   ]
  },
  {
   "cell_type": "code",
   "execution_count": 63,
   "metadata": {},
   "outputs": [
    {
     "data": {
      "text/plain": [
       "0    July 8th 2019, 14:43:03.000\n",
       "1    July 8th 2019, 14:43:01.000\n",
       "2    July 8th 2019, 14:42:59.000\n",
       "3    July 8th 2019, 14:42:57.000\n",
       "4    July 8th 2019, 14:42:55.000\n",
       "Name: Date_Time, dtype: object"
      ]
     },
     "execution_count": 63,
     "metadata": {},
     "output_type": "execute_result"
    }
   ],
   "source": [
    "DF['Date_Time'].head()"
   ]
  },
  {
   "cell_type": "code",
   "execution_count": 64,
   "metadata": {},
   "outputs": [
    {
     "data": {
      "text/plain": [
       "dtype('O')"
      ]
     },
     "execution_count": 64,
     "metadata": {},
     "output_type": "execute_result"
    }
   ],
   "source": [
    "# Date_Time\n",
    "DF['Date_Time'].dtype"
   ]
  },
  {
   "cell_type": "code",
   "execution_count": 65,
   "metadata": {},
   "outputs": [],
   "source": [
    "# As it is a date type column , we will first convert the data type to date time."
   ]
  },
  {
   "cell_type": "code",
   "execution_count": 66,
   "metadata": {},
   "outputs": [],
   "source": [
    "DF['Date_Time'] =  pd.to_datetime(DF['Date_Time'])"
   ]
  },
  {
   "cell_type": "code",
   "execution_count": 67,
   "metadata": {},
   "outputs": [
    {
     "data": {
      "text/plain": [
       "dtype('<M8[ns]')"
      ]
     },
     "execution_count": 67,
     "metadata": {},
     "output_type": "execute_result"
    }
   ],
   "source": [
    "DF['Date_Time'].dtype"
   ]
  },
  {
   "cell_type": "code",
   "execution_count": 68,
   "metadata": {},
   "outputs": [
    {
     "data": {
      "text/plain": [
       "0   2019-07-08 14:43:03\n",
       "1   2019-07-08 14:43:01\n",
       "2   2019-07-08 14:42:59\n",
       "3   2019-07-08 14:42:57\n",
       "4   2019-07-08 14:42:55\n",
       "Name: Date_Time, dtype: datetime64[ns]"
      ]
     },
     "execution_count": 68,
     "metadata": {},
     "output_type": "execute_result"
    }
   ],
   "source": [
    "DF['Date_Time'].head()"
   ]
  },
  {
   "cell_type": "code",
   "execution_count": 69,
   "metadata": {},
   "outputs": [],
   "source": [
    "#Type"
   ]
  },
  {
   "cell_type": "code",
   "execution_count": 70,
   "metadata": {},
   "outputs": [
    {
     "data": {
      "text/plain": [
       "dtype('O')"
      ]
     },
     "execution_count": 70,
     "metadata": {},
     "output_type": "execute_result"
    }
   ],
   "source": [
    "DF['Type'].dtype"
   ]
  },
  {
   "cell_type": "code",
   "execution_count": 71,
   "metadata": {},
   "outputs": [
    {
     "data": {
      "text/plain": [
       "0         INVOICE\n",
       "1         INVOICE\n",
       "2    PRE_APPROVAL\n",
       "3    PRE_APPROVAL\n",
       "4             IPC\n",
       "Name: Type, dtype: object"
      ]
     },
     "execution_count": 71,
     "metadata": {},
     "output_type": "execute_result"
    }
   ],
   "source": [
    "DF['Type'].head()"
   ]
  },
  {
   "cell_type": "code",
   "execution_count": 72,
   "metadata": {},
   "outputs": [
    {
     "data": {
      "image/png": "[encoded data removed]",
      "text/plain": [
       "<Figure size 936x288 with 1 Axes>"
      ]
     },
     "metadata": {
      "needs_background": "light"
     },
     "output_type": "display_data"
    }
   ],
   "source": [
    "plt.figure(figsize=(13, 4))\n",
    "sns.countplot(DF.Type, order = DF.Type.value_counts().index);"
   ]
  },
  {
   "cell_type": "code",
   "execution_count": 73,
   "metadata": {},
   "outputs": [],
   "source": [
    "# We can see that invoice type has the maximum count followed by IPC."
   ]
  },
  {
   "cell_type": "code",
   "execution_count": 74,
   "metadata": {},
   "outputs": [],
   "source": [
    "# Bivarate Analysis "
   ]
  },
  {
   "cell_type": "code",
   "execution_count": 75,
   "metadata": {},
   "outputs": [
    {
     "data": {
      "text/plain": [
       "IP_Address\n",
       "10.1.1.1       Vendor-99\n",
       "10.1.1.100    Vendor-999\n",
       "10.1.1.101     Vendor-98\n",
       "10.1.1.106     Vendor-99\n",
       "10.1.1.109     Vendor-99\n",
       "                 ...    \n",
       "10.1.2.86     Vendor-999\n",
       "10.1.2.89      Vendor-99\n",
       "10.1.2.90      Vendor-99\n",
       "10.1.2.95     Vendor-999\n",
       "10.1.2.99      Vendor-99\n",
       "Name: Vendor_Name, Length: 386, dtype: object"
      ]
     },
     "execution_count": 75,
     "metadata": {},
     "output_type": "execute_result"
    }
   ],
   "source": [
    "DF.groupby(['IP_Address'])['Vendor_Name'].max()"
   ]
  },
  {
   "cell_type": "code",
   "execution_count": 76,
   "metadata": {},
   "outputs": [],
   "source": [
    "# There is not much inference we can take out about the relation between IP_address and Vendor_Name"
   ]
  },
  {
   "cell_type": "markdown",
   "metadata": {},
   "source": [
    "----------------------- MODEL BUILDING -----------------------------"
   ]
  },
  {
   "cell_type": "code",
   "execution_count": 77,
   "metadata": {},
   "outputs": [
    {
     "data": {
      "text/html": [
       "<div>\n",
       "<style scoped>\n",
       "    .dataframe tbody tr th:only-of-type {\n",
       "        vertical-align: middle;\n",
       "    }\n",
       "\n",
       "    .dataframe tbody tr th {\n",
       "        vertical-align: top;\n",
       "    }\n",
       "\n",
       "    .dataframe thead th {\n",
       "        text-align: right;\n",
       "    }\n",
       "</style>\n",
       "<table border=\"1\" class=\"dataframe\">\n",
       "  <thead>\n",
       "    <tr style=\"text-align: right;\">\n",
       "      <th></th>\n",
       "      <th>Date_Time</th>\n",
       "      <th>IP_Address</th>\n",
       "      <th>Vendor_Name</th>\n",
       "      <th>Type</th>\n",
       "    </tr>\n",
       "  </thead>\n",
       "  <tbody>\n",
       "    <tr>\n",
       "      <td>396219</td>\n",
       "      <td>2019-06-23 13:15:59</td>\n",
       "      <td>10.1.2.228</td>\n",
       "      <td>Vendor-182</td>\n",
       "      <td>INVOICE</td>\n",
       "    </tr>\n",
       "    <tr>\n",
       "      <td>396218</td>\n",
       "      <td>2019-06-23 13:16:05</td>\n",
       "      <td>10.1.1.179</td>\n",
       "      <td>Vendor-182</td>\n",
       "      <td>INVOICE</td>\n",
       "    </tr>\n",
       "    <tr>\n",
       "      <td>396217</td>\n",
       "      <td>2019-06-23 13:16:09</td>\n",
       "      <td>10.1.2.139</td>\n",
       "      <td>Vendor-182</td>\n",
       "      <td>INVOICE</td>\n",
       "    </tr>\n",
       "    <tr>\n",
       "      <td>396216</td>\n",
       "      <td>2019-06-23 13:16:15</td>\n",
       "      <td>10.1.2.214</td>\n",
       "      <td>Vendor-181</td>\n",
       "      <td>PRE_APPROVAL</td>\n",
       "    </tr>\n",
       "    <tr>\n",
       "      <td>396215</td>\n",
       "      <td>2019-06-23 13:16:19</td>\n",
       "      <td>10.1.1.343</td>\n",
       "      <td>Vendor-181</td>\n",
       "      <td>PRE_APPROVAL</td>\n",
       "    </tr>\n",
       "  </tbody>\n",
       "</table>\n",
       "</div>"
      ],
      "text/plain": [
       "                 Date_Time  IP_Address Vendor_Name          Type\n",
       "396219 2019-06-23 13:15:59  10.1.2.228  Vendor-182       INVOICE\n",
       "396218 2019-06-23 13:16:05  10.1.1.179  Vendor-182       INVOICE\n",
       "396217 2019-06-23 13:16:09  10.1.2.139  Vendor-182       INVOICE\n",
       "396216 2019-06-23 13:16:15  10.1.2.214  Vendor-181  PRE_APPROVAL\n",
       "396215 2019-06-23 13:16:19  10.1.1.343  Vendor-181  PRE_APPROVAL"
      ]
     },
     "execution_count": 77,
     "metadata": {},
     "output_type": "execute_result"
    }
   ],
   "source": [
    "# First we will sort data using datetime .\n",
    "DF1 = DF.sort_values(by=\"Date_Time\")\n",
    "DF1.head()"
   ]
  },
  {
   "cell_type": "code",
   "execution_count": 78,
   "metadata": {
    "scrolled": false
   },
   "outputs": [
    {
     "data": {
      "text/html": [
       "<div>\n",
       "<style scoped>\n",
       "    .dataframe tbody tr th:only-of-type {\n",
       "        vertical-align: middle;\n",
       "    }\n",
       "\n",
       "    .dataframe tbody tr th {\n",
       "        vertical-align: top;\n",
       "    }\n",
       "\n",
       "    .dataframe thead th {\n",
       "        text-align: right;\n",
       "    }\n",
       "</style>\n",
       "<table border=\"1\" class=\"dataframe\">\n",
       "  <thead>\n",
       "    <tr style=\"text-align: right;\">\n",
       "      <th></th>\n",
       "      <th>IP_Address</th>\n",
       "      <th>Vendor_Name</th>\n",
       "      <th>Type</th>\n",
       "    </tr>\n",
       "    <tr>\n",
       "      <th>Date_Time</th>\n",
       "      <th></th>\n",
       "      <th></th>\n",
       "      <th></th>\n",
       "    </tr>\n",
       "  </thead>\n",
       "  <tbody>\n",
       "    <tr>\n",
       "      <td>2019-06-23 13:15:59</td>\n",
       "      <td>10.1.2.228</td>\n",
       "      <td>Vendor-182</td>\n",
       "      <td>INVOICE</td>\n",
       "    </tr>\n",
       "    <tr>\n",
       "      <td>2019-06-23 13:16:05</td>\n",
       "      <td>10.1.1.179</td>\n",
       "      <td>Vendor-182</td>\n",
       "      <td>INVOICE</td>\n",
       "    </tr>\n",
       "    <tr>\n",
       "      <td>2019-06-23 13:16:09</td>\n",
       "      <td>10.1.2.139</td>\n",
       "      <td>Vendor-182</td>\n",
       "      <td>INVOICE</td>\n",
       "    </tr>\n",
       "    <tr>\n",
       "      <td>2019-06-23 13:16:15</td>\n",
       "      <td>10.1.2.214</td>\n",
       "      <td>Vendor-181</td>\n",
       "      <td>PRE_APPROVAL</td>\n",
       "    </tr>\n",
       "    <tr>\n",
       "      <td>2019-06-23 13:16:19</td>\n",
       "      <td>10.1.1.343</td>\n",
       "      <td>Vendor-181</td>\n",
       "      <td>PRE_APPROVAL</td>\n",
       "    </tr>\n",
       "  </tbody>\n",
       "</table>\n",
       "</div>"
      ],
      "text/plain": [
       "                     IP_Address Vendor_Name          Type\n",
       "Date_Time                                                \n",
       "2019-06-23 13:15:59  10.1.2.228  Vendor-182       INVOICE\n",
       "2019-06-23 13:16:05  10.1.1.179  Vendor-182       INVOICE\n",
       "2019-06-23 13:16:09  10.1.2.139  Vendor-182       INVOICE\n",
       "2019-06-23 13:16:15  10.1.2.214  Vendor-181  PRE_APPROVAL\n",
       "2019-06-23 13:16:19  10.1.1.343  Vendor-181  PRE_APPROVAL"
      ]
     },
     "execution_count": 78,
     "metadata": {},
     "output_type": "execute_result"
    }
   ],
   "source": [
    "# We will make \"Date_Time\" column as index so that we can find abnormality time wise.\n",
    "DF1.set_index(\"Date_Time\", inplace = True) \n",
    "DF1.head()"
   ]
  },
  {
   "cell_type": "code",
   "execution_count": 79,
   "metadata": {},
   "outputs": [],
   "source": [
    "# _______________Model No.1 :K-modes Clustering __________________________________"
   ]
  },
  {
   "cell_type": "code",
   "execution_count": 80,
   "metadata": {},
   "outputs": [
    {
     "data": {
      "text/html": [
       "<div>\n",
       "<style scoped>\n",
       "    .dataframe tbody tr th:only-of-type {\n",
       "        vertical-align: middle;\n",
       "    }\n",
       "\n",
       "    .dataframe tbody tr th {\n",
       "        vertical-align: top;\n",
       "    }\n",
       "\n",
       "    .dataframe thead th {\n",
       "        text-align: right;\n",
       "    }\n",
       "</style>\n",
       "<table border=\"1\" class=\"dataframe\">\n",
       "  <thead>\n",
       "    <tr style=\"text-align: right;\">\n",
       "      <th></th>\n",
       "      <th>IP_Address</th>\n",
       "      <th>Vendor_Name</th>\n",
       "      <th>Type</th>\n",
       "    </tr>\n",
       "    <tr>\n",
       "      <th>Date_Time</th>\n",
       "      <th></th>\n",
       "      <th></th>\n",
       "      <th></th>\n",
       "    </tr>\n",
       "  </thead>\n",
       "  <tbody>\n",
       "    <tr>\n",
       "      <td>2019-06-23 13:15:59</td>\n",
       "      <td>250</td>\n",
       "      <td>92</td>\n",
       "      <td>2</td>\n",
       "    </tr>\n",
       "    <tr>\n",
       "      <td>2019-06-23 13:16:05</td>\n",
       "      <td>33</td>\n",
       "      <td>92</td>\n",
       "      <td>2</td>\n",
       "    </tr>\n",
       "    <tr>\n",
       "      <td>2019-06-23 13:16:09</td>\n",
       "      <td>208</td>\n",
       "      <td>92</td>\n",
       "      <td>2</td>\n",
       "    </tr>\n",
       "    <tr>\n",
       "      <td>2019-06-23 13:16:15</td>\n",
       "      <td>245</td>\n",
       "      <td>91</td>\n",
       "      <td>5</td>\n",
       "    </tr>\n",
       "    <tr>\n",
       "      <td>2019-06-23 13:16:19</td>\n",
       "      <td>100</td>\n",
       "      <td>91</td>\n",
       "      <td>5</td>\n",
       "    </tr>\n",
       "  </tbody>\n",
       "</table>\n",
       "</div>"
      ],
      "text/plain": [
       "                     IP_Address  Vendor_Name  Type\n",
       "Date_Time                                         \n",
       "2019-06-23 13:15:59         250           92     2\n",
       "2019-06-23 13:16:05          33           92     2\n",
       "2019-06-23 13:16:09         208           92     2\n",
       "2019-06-23 13:16:15         245           91     5\n",
       "2019-06-23 13:16:19         100           91     5"
      ]
     },
     "execution_count": 80,
     "metadata": {},
     "output_type": "execute_result"
    }
   ],
   "source": [
    "# Importing Libraries and  encoding the variables .\n",
    "from sklearn import preprocessing\n",
    "le = preprocessing.LabelEncoder()\n",
    "DF2 = DF1.apply(le.fit_transform)\n",
    "DF2.head()"
   ]
  },
  {
   "cell_type": "code",
   "execution_count": 81,
   "metadata": {},
   "outputs": [
    {
     "name": "stdout",
     "output_type": "stream",
     "text": [
      "Init: initializing centroids\n",
      "Init: initializing clusters\n",
      "Starting iterations...\n",
      "Run 1, iteration: 1/100, moves: 53858, cost: 814754.0\n"
     ]
    }
   ],
   "source": [
    "# Applying K-modes algorithm to build a model.\n",
    "from kmodes.kmodes import KModes\n",
    "km_cao = KModes(n_clusters=5, init = \"Cao\", n_init = 1, verbose=1)\n",
    "fitClusters_cao = km_cao.fit_predict(DF2)"
   ]
  },
  {
   "cell_type": "code",
   "execution_count": 82,
   "metadata": {},
   "outputs": [
    {
     "data": {
      "text/plain": [
       "array([0, 0, 0, ..., 0, 0, 0], dtype=uint16)"
      ]
     },
     "execution_count": 82,
     "metadata": {},
     "output_type": "execute_result"
    }
   ],
   "source": [
    "fitClusters_cao"
   ]
  },
  {
   "cell_type": "code",
   "execution_count": 83,
   "metadata": {},
   "outputs": [],
   "source": [
    "clusterCentroidsDf = pd.DataFrame(km_cao.cluster_centroids_)\n",
    "clusterCentroidsDf.columns = DF2.columns"
   ]
  },
  {
   "cell_type": "code",
   "execution_count": 84,
   "metadata": {
    "scrolled": true
   },
   "outputs": [
    {
     "data": {
      "text/html": [
       "<div>\n",
       "<style scoped>\n",
       "    .dataframe tbody tr th:only-of-type {\n",
       "        vertical-align: middle;\n",
       "    }\n",
       "\n",
       "    .dataframe tbody tr th {\n",
       "        vertical-align: top;\n",
       "    }\n",
       "\n",
       "    .dataframe thead th {\n",
       "        text-align: right;\n",
       "    }\n",
       "</style>\n",
       "<table border=\"1\" class=\"dataframe\">\n",
       "  <thead>\n",
       "    <tr style=\"text-align: right;\">\n",
       "      <th></th>\n",
       "      <th>IP_Address</th>\n",
       "      <th>Vendor_Name</th>\n",
       "      <th>Type</th>\n",
       "    </tr>\n",
       "  </thead>\n",
       "  <tbody>\n",
       "    <tr>\n",
       "      <td>0</td>\n",
       "      <td>381</td>\n",
       "      <td>587</td>\n",
       "      <td>2</td>\n",
       "    </tr>\n",
       "    <tr>\n",
       "      <td>1</td>\n",
       "      <td>177</td>\n",
       "      <td>154</td>\n",
       "      <td>2</td>\n",
       "    </tr>\n",
       "    <tr>\n",
       "      <td>2</td>\n",
       "      <td>164</td>\n",
       "      <td>49</td>\n",
       "      <td>2</td>\n",
       "    </tr>\n",
       "    <tr>\n",
       "      <td>3</td>\n",
       "      <td>357</td>\n",
       "      <td>35</td>\n",
       "      <td>4</td>\n",
       "    </tr>\n",
       "    <tr>\n",
       "      <td>4</td>\n",
       "      <td>311</td>\n",
       "      <td>5</td>\n",
       "      <td>4</td>\n",
       "    </tr>\n",
       "  </tbody>\n",
       "</table>\n",
       "</div>"
      ],
      "text/plain": [
       "   IP_Address  Vendor_Name  Type\n",
       "0         381          587     2\n",
       "1         177          154     2\n",
       "2         164           49     2\n",
       "3         357           35     4\n",
       "4         311            5     4"
      ]
     },
     "execution_count": 84,
     "metadata": {},
     "output_type": "execute_result"
    }
   ],
   "source": [
    "# Mode of the clusters\n",
    "clusterCentroidsDf"
   ]
  },
  {
   "cell_type": "code",
   "execution_count": 85,
   "metadata": {},
   "outputs": [],
   "source": [
    "# These are the centroids of the clusters."
   ]
  },
  {
   "cell_type": "code",
   "execution_count": 86,
   "metadata": {},
   "outputs": [],
   "source": [
    "# Making a dataframe for clusters.\n",
    "clustersDf = pd.DataFrame(fitClusters_cao)\n",
    "clustersDf.columns = ['cluster_predicted']"
   ]
  },
  {
   "cell_type": "code",
   "execution_count": 87,
   "metadata": {},
   "outputs": [],
   "source": [
    "# Using Date_Time index so that we can indetify the data in different cluster date and time wise.\n",
    "clustersDf.index=DF2.index"
   ]
  },
  {
   "cell_type": "code",
   "execution_count": 88,
   "metadata": {},
   "outputs": [],
   "source": [
    "# Combining dataframe with cluster dataframe.\n",
    "combinedDf = pd.concat([DF2, clustersDf], axis = 1)\n",
    "#combinedDf = combinedDf.drop(['index', 'level_0'], axis = 1)"
   ]
  },
  {
   "cell_type": "code",
   "execution_count": 89,
   "metadata": {},
   "outputs": [
    {
     "data": {
      "text/html": [
       "<div>\n",
       "<style scoped>\n",
       "    .dataframe tbody tr th:only-of-type {\n",
       "        vertical-align: middle;\n",
       "    }\n",
       "\n",
       "    .dataframe tbody tr th {\n",
       "        vertical-align: top;\n",
       "    }\n",
       "\n",
       "    .dataframe thead th {\n",
       "        text-align: right;\n",
       "    }\n",
       "</style>\n",
       "<table border=\"1\" class=\"dataframe\">\n",
       "  <thead>\n",
       "    <tr style=\"text-align: right;\">\n",
       "      <th></th>\n",
       "      <th>IP_Address</th>\n",
       "      <th>Vendor_Name</th>\n",
       "      <th>Type</th>\n",
       "      <th>cluster_predicted</th>\n",
       "    </tr>\n",
       "    <tr>\n",
       "      <th>Date_Time</th>\n",
       "      <th></th>\n",
       "      <th></th>\n",
       "      <th></th>\n",
       "      <th></th>\n",
       "    </tr>\n",
       "  </thead>\n",
       "  <tbody>\n",
       "    <tr>\n",
       "      <td>2019-06-23 13:15:59</td>\n",
       "      <td>250</td>\n",
       "      <td>92</td>\n",
       "      <td>2</td>\n",
       "      <td>0</td>\n",
       "    </tr>\n",
       "    <tr>\n",
       "      <td>2019-06-23 13:16:05</td>\n",
       "      <td>33</td>\n",
       "      <td>92</td>\n",
       "      <td>2</td>\n",
       "      <td>0</td>\n",
       "    </tr>\n",
       "    <tr>\n",
       "      <td>2019-06-23 13:16:09</td>\n",
       "      <td>208</td>\n",
       "      <td>92</td>\n",
       "      <td>2</td>\n",
       "      <td>0</td>\n",
       "    </tr>\n",
       "    <tr>\n",
       "      <td>2019-06-23 13:16:15</td>\n",
       "      <td>245</td>\n",
       "      <td>91</td>\n",
       "      <td>5</td>\n",
       "      <td>0</td>\n",
       "    </tr>\n",
       "    <tr>\n",
       "      <td>2019-06-23 13:16:19</td>\n",
       "      <td>100</td>\n",
       "      <td>91</td>\n",
       "      <td>5</td>\n",
       "      <td>0</td>\n",
       "    </tr>\n",
       "    <tr>\n",
       "      <td>...</td>\n",
       "      <td>...</td>\n",
       "      <td>...</td>\n",
       "      <td>...</td>\n",
       "      <td>...</td>\n",
       "    </tr>\n",
       "    <tr>\n",
       "      <td>2019-07-08 14:42:55</td>\n",
       "      <td>175</td>\n",
       "      <td>1</td>\n",
       "      <td>4</td>\n",
       "      <td>3</td>\n",
       "    </tr>\n",
       "    <tr>\n",
       "      <td>2019-07-08 14:42:57</td>\n",
       "      <td>185</td>\n",
       "      <td>0</td>\n",
       "      <td>5</td>\n",
       "      <td>0</td>\n",
       "    </tr>\n",
       "    <tr>\n",
       "      <td>2019-07-08 14:42:59</td>\n",
       "      <td>129</td>\n",
       "      <td>0</td>\n",
       "      <td>5</td>\n",
       "      <td>0</td>\n",
       "    </tr>\n",
       "    <tr>\n",
       "      <td>2019-07-08 14:43:01</td>\n",
       "      <td>313</td>\n",
       "      <td>0</td>\n",
       "      <td>2</td>\n",
       "      <td>0</td>\n",
       "    </tr>\n",
       "    <tr>\n",
       "      <td>2019-07-08 14:43:03</td>\n",
       "      <td>76</td>\n",
       "      <td>0</td>\n",
       "      <td>2</td>\n",
       "      <td>0</td>\n",
       "    </tr>\n",
       "  </tbody>\n",
       "</table>\n",
       "<p>391382 rows × 4 columns</p>\n",
       "</div>"
      ],
      "text/plain": [
       "                     IP_Address  Vendor_Name  Type  cluster_predicted\n",
       "Date_Time                                                            \n",
       "2019-06-23 13:15:59         250           92     2                  0\n",
       "2019-06-23 13:16:05          33           92     2                  0\n",
       "2019-06-23 13:16:09         208           92     2                  0\n",
       "2019-06-23 13:16:15         245           91     5                  0\n",
       "2019-06-23 13:16:19         100           91     5                  0\n",
       "...                         ...          ...   ...                ...\n",
       "2019-07-08 14:42:55         175            1     4                  3\n",
       "2019-07-08 14:42:57         185            0     5                  0\n",
       "2019-07-08 14:42:59         129            0     5                  0\n",
       "2019-07-08 14:43:01         313            0     2                  0\n",
       "2019-07-08 14:43:03          76            0     2                  0\n",
       "\n",
       "[391382 rows x 4 columns]"
      ]
     },
     "execution_count": 89,
     "metadata": {},
     "output_type": "execute_result"
    }
   ],
   "source": [
    "combinedDf"
   ]
  },
  {
   "cell_type": "code",
   "execution_count": 90,
   "metadata": {},
   "outputs": [
    {
     "data": {
      "image/png": "[encoded data removed]",
      "text/plain": [
       "<Figure size 1080x360 with 1 Axes>"
      ]
     },
     "metadata": {
      "needs_background": "light"
     },
     "output_type": "display_data"
    }
   ],
   "source": [
    "# Plotting Clusters for Type variable.\n",
    "plt.subplots(figsize = (15,5))\n",
    "sns.countplot(x=combinedDf['Type'],order=combinedDf['Type'].value_counts().index,hue=combinedDf['cluster_predicted'])\n",
    "plt.show()"
   ]
  },
  {
   "cell_type": "code",
   "execution_count": 91,
   "metadata": {},
   "outputs": [],
   "source": [
    "#___________________________Model No.2 IsolationForest_______________________________"
   ]
  },
  {
   "cell_type": "code",
   "execution_count": 92,
   "metadata": {},
   "outputs": [],
   "source": [
    "# Importing libraries\n",
    "from sklearn.ensemble import IsolationForest"
   ]
  },
  {
   "cell_type": "code",
   "execution_count": 93,
   "metadata": {},
   "outputs": [
    {
     "data": {
      "text/html": [
       "<div>\n",
       "<style scoped>\n",
       "    .dataframe tbody tr th:only-of-type {\n",
       "        vertical-align: middle;\n",
       "    }\n",
       "\n",
       "    .dataframe tbody tr th {\n",
       "        vertical-align: top;\n",
       "    }\n",
       "\n",
       "    .dataframe thead th {\n",
       "        text-align: right;\n",
       "    }\n",
       "</style>\n",
       "<table border=\"1\" class=\"dataframe\">\n",
       "  <thead>\n",
       "    <tr style=\"text-align: right;\">\n",
       "      <th></th>\n",
       "      <th>IP_Address</th>\n",
       "      <th>Vendor_Name</th>\n",
       "      <th>Type</th>\n",
       "    </tr>\n",
       "    <tr>\n",
       "      <th>Date_Time</th>\n",
       "      <th></th>\n",
       "      <th></th>\n",
       "      <th></th>\n",
       "    </tr>\n",
       "  </thead>\n",
       "  <tbody>\n",
       "    <tr>\n",
       "      <td>2019-06-23 13:15:59</td>\n",
       "      <td>250</td>\n",
       "      <td>92</td>\n",
       "      <td>2</td>\n",
       "    </tr>\n",
       "    <tr>\n",
       "      <td>2019-06-23 13:16:05</td>\n",
       "      <td>33</td>\n",
       "      <td>92</td>\n",
       "      <td>2</td>\n",
       "    </tr>\n",
       "    <tr>\n",
       "      <td>2019-06-23 13:16:09</td>\n",
       "      <td>208</td>\n",
       "      <td>92</td>\n",
       "      <td>2</td>\n",
       "    </tr>\n",
       "    <tr>\n",
       "      <td>2019-06-23 13:16:15</td>\n",
       "      <td>245</td>\n",
       "      <td>91</td>\n",
       "      <td>5</td>\n",
       "    </tr>\n",
       "    <tr>\n",
       "      <td>2019-06-23 13:16:19</td>\n",
       "      <td>100</td>\n",
       "      <td>91</td>\n",
       "      <td>5</td>\n",
       "    </tr>\n",
       "  </tbody>\n",
       "</table>\n",
       "</div>"
      ],
      "text/plain": [
       "                     IP_Address  Vendor_Name  Type\n",
       "Date_Time                                         \n",
       "2019-06-23 13:15:59         250           92     2\n",
       "2019-06-23 13:16:05          33           92     2\n",
       "2019-06-23 13:16:09         208           92     2\n",
       "2019-06-23 13:16:15         245           91     5\n",
       "2019-06-23 13:16:19         100           91     5"
      ]
     },
     "execution_count": 93,
     "metadata": {},
     "output_type": "execute_result"
    }
   ],
   "source": [
    "# Checking DataFrame.\n",
    "DF2.head()"
   ]
  },
  {
   "cell_type": "code",
   "execution_count": 94,
   "metadata": {},
   "outputs": [
    {
     "data": {
      "text/html": [
       "<div>\n",
       "<style scoped>\n",
       "    .dataframe tbody tr th:only-of-type {\n",
       "        vertical-align: middle;\n",
       "    }\n",
       "\n",
       "    .dataframe tbody tr th {\n",
       "        vertical-align: top;\n",
       "    }\n",
       "\n",
       "    .dataframe thead th {\n",
       "        text-align: right;\n",
       "    }\n",
       "</style>\n",
       "<table border=\"1\" class=\"dataframe\">\n",
       "  <thead>\n",
       "    <tr style=\"text-align: right;\">\n",
       "      <th></th>\n",
       "      <th>IP_Address</th>\n",
       "      <th>Vendor_Name</th>\n",
       "      <th>Type</th>\n",
       "    </tr>\n",
       "    <tr>\n",
       "      <th>Date_Time</th>\n",
       "      <th></th>\n",
       "      <th></th>\n",
       "      <th></th>\n",
       "    </tr>\n",
       "  </thead>\n",
       "  <tbody>\n",
       "    <tr>\n",
       "      <td>2019-06-23 13:16:15</td>\n",
       "      <td>245</td>\n",
       "      <td>91</td>\n",
       "      <td>5</td>\n",
       "    </tr>\n",
       "    <tr>\n",
       "      <td>2019-06-23 13:16:19</td>\n",
       "      <td>100</td>\n",
       "      <td>91</td>\n",
       "      <td>5</td>\n",
       "    </tr>\n",
       "    <tr>\n",
       "      <td>2019-06-23 13:16:25</td>\n",
       "      <td>248</td>\n",
       "      <td>91</td>\n",
       "      <td>5</td>\n",
       "    </tr>\n",
       "    <tr>\n",
       "      <td>2019-06-23 13:16:29</td>\n",
       "      <td>22</td>\n",
       "      <td>91</td>\n",
       "      <td>5</td>\n",
       "    </tr>\n",
       "    <tr>\n",
       "      <td>2019-06-23 13:16:35</td>\n",
       "      <td>329</td>\n",
       "      <td>91</td>\n",
       "      <td>5</td>\n",
       "    </tr>\n",
       "    <tr>\n",
       "      <td>...</td>\n",
       "      <td>...</td>\n",
       "      <td>...</td>\n",
       "      <td>...</td>\n",
       "    </tr>\n",
       "    <tr>\n",
       "      <td>2019-07-08 14:12:36</td>\n",
       "      <td>364</td>\n",
       "      <td>1</td>\n",
       "      <td>4</td>\n",
       "    </tr>\n",
       "    <tr>\n",
       "      <td>2019-07-08 14:12:36</td>\n",
       "      <td>364</td>\n",
       "      <td>1</td>\n",
       "      <td>4</td>\n",
       "    </tr>\n",
       "    <tr>\n",
       "      <td>2019-07-08 14:42:53</td>\n",
       "      <td>372</td>\n",
       "      <td>1</td>\n",
       "      <td>4</td>\n",
       "    </tr>\n",
       "    <tr>\n",
       "      <td>2019-07-08 14:42:57</td>\n",
       "      <td>185</td>\n",
       "      <td>0</td>\n",
       "      <td>5</td>\n",
       "    </tr>\n",
       "    <tr>\n",
       "      <td>2019-07-08 14:42:59</td>\n",
       "      <td>129</td>\n",
       "      <td>0</td>\n",
       "      <td>5</td>\n",
       "    </tr>\n",
       "  </tbody>\n",
       "</table>\n",
       "<p>39139 rows × 3 columns</p>\n",
       "</div>"
      ],
      "text/plain": [
       "                     IP_Address  Vendor_Name  Type\n",
       "Date_Time                                         \n",
       "2019-06-23 13:16:15         245           91     5\n",
       "2019-06-23 13:16:19         100           91     5\n",
       "2019-06-23 13:16:25         248           91     5\n",
       "2019-06-23 13:16:29          22           91     5\n",
       "2019-06-23 13:16:35         329           91     5\n",
       "...                         ...          ...   ...\n",
       "2019-07-08 14:12:36         364            1     4\n",
       "2019-07-08 14:12:36         364            1     4\n",
       "2019-07-08 14:42:53         372            1     4\n",
       "2019-07-08 14:42:57         185            0     5\n",
       "2019-07-08 14:42:59         129            0     5\n",
       "\n",
       "[39139 rows x 3 columns]"
      ]
     },
     "execution_count": 94,
     "metadata": {},
     "output_type": "execute_result"
    }
   ],
   "source": [
    "# Applying IsolationForest algorithm .\n",
    "iso_forest = IsolationForest(n_estimators=300, contamination=0.10)\n",
    "\n",
    "iso_forest = iso_forest.fit(DF2) \n",
    "isof_outliers = iso_forest.predict(DF2)\n",
    "isoF_outliers_values = DF2[iso_forest.predict(DF2) == -1]\n",
    "isoF_outliers_values"
   ]
  },
  {
   "cell_type": "markdown",
   "metadata": {},
   "source": [
    "These are the abnormal data in the data provided."
   ]
  },
  {
   "cell_type": "code",
   "execution_count": 95,
   "metadata": {},
   "outputs": [
    {
     "data": {
      "text/plain": [
       "(39139, 3)"
      ]
     },
     "execution_count": 95,
     "metadata": {},
     "output_type": "execute_result"
    }
   ],
   "source": [
    "# Checking Shape of outliers\n",
    "isoF_outliers_values.shape"
   ]
  },
  {
   "cell_type": "code",
   "execution_count": 96,
   "metadata": {},
   "outputs": [
    {
     "data": {
      "text/plain": [
       "(391382, 3)"
      ]
     },
     "execution_count": 96,
     "metadata": {},
     "output_type": "execute_result"
    }
   ],
   "source": [
    "# Checking the shape of original dataframe\n",
    "DF2.shape"
   ]
  },
  {
   "cell_type": "markdown",
   "metadata": {},
   "source": [
    "Conclusion::\n",
    "IsolationForest model has predicted that 39132 datapoints are abnormal out of total 391382 datapoints."
   ]
  },
  {
   "cell_type": "code",
   "execution_count": 97,
   "metadata": {},
   "outputs": [],
   "source": [
    "#-------END--------#"
   ]
  }
 ],
 "metadata": {
  "kernelspec": {
   "display_name": "Python 3",
   "language": "python",
   "name": "python3"
  },
  "language_info": {
   "codemirror_mode": {
    "name": "ipython",
    "version": 3
   },
   "file_extension": ".py",
   "mimetype": "text/x-python",
   "name": "python",
   "nbconvert_exporter": "python",
   "pygments_lexer": "ipython3",
   "version": "3.7.4"
  }
 },
 "nbformat": 4,
 "nbformat_minor": 2
}
