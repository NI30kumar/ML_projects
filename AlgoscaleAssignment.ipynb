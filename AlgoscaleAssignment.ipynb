{
 "cells": [
  {
   "cell_type": "code",
   "execution_count": 56,
   "metadata": {},
   "outputs": [],
   "source": [
    "#Import libraries\n",
    "import os\n",
    "import pandas as pd\n",
    "import numpy as np\n",
    "\n",
    "#import libraries for plots\n",
    "import matplotlib.pyplot as plt\n",
    "import seaborn as sns\n",
    "\n",
    "# Suppressing Warnings\n",
    "import warnings\n",
    "warnings.filterwarnings('ignore')"
   ]
  },
  {
   "cell_type": "code",
   "execution_count": 28,
   "metadata": {},
   "outputs": [],
   "source": [
    "# Importing all datasets\n",
    "os.chdir(\"C:/Users/Nitish/Downloads/DS_Case_Study_beer-ratings_2020/DS_Case_Study_beer-ratings_2020\")"
   ]
  },
  {
   "cell_type": "code",
   "execution_count": 29,
   "metadata": {},
   "outputs": [
    {
     "data": {
      "text/html": [
       "<div>\n",
       "<style scoped>\n",
       "    .dataframe tbody tr th:only-of-type {\n",
       "        vertical-align: middle;\n",
       "    }\n",
       "\n",
       "    .dataframe tbody tr th {\n",
       "        vertical-align: top;\n",
       "    }\n",
       "\n",
       "    .dataframe thead th {\n",
       "        text-align: right;\n",
       "    }\n",
       "</style>\n",
       "<table border=\"1\" class=\"dataframe\">\n",
       "  <thead>\n",
       "    <tr style=\"text-align: right;\">\n",
       "      <th></th>\n",
       "      <th>index</th>\n",
       "      <th>beer/ABV</th>\n",
       "      <th>beer/beerId</th>\n",
       "      <th>beer/brewerId</th>\n",
       "      <th>beer/name</th>\n",
       "      <th>beer/style</th>\n",
       "      <th>review/appearance</th>\n",
       "      <th>review/aroma</th>\n",
       "      <th>review/overall</th>\n",
       "      <th>review/palate</th>\n",
       "      <th>review/taste</th>\n",
       "      <th>review/text</th>\n",
       "      <th>review/timeStruct</th>\n",
       "      <th>review/timeUnix</th>\n",
       "      <th>user/ageInSeconds</th>\n",
       "      <th>user/birthdayRaw</th>\n",
       "      <th>user/birthdayUnix</th>\n",
       "      <th>user/gender</th>\n",
       "      <th>user/profileName</th>\n",
       "    </tr>\n",
       "  </thead>\n",
       "  <tbody>\n",
       "    <tr>\n",
       "      <td>0</td>\n",
       "      <td>40163</td>\n",
       "      <td>5.0</td>\n",
       "      <td>46634</td>\n",
       "      <td>14338</td>\n",
       "      <td>Chiostro</td>\n",
       "      <td>Herbed / Spiced Beer</td>\n",
       "      <td>4.0</td>\n",
       "      <td>4.0</td>\n",
       "      <td>4.0</td>\n",
       "      <td>4.0</td>\n",
       "      <td>4.0</td>\n",
       "      <td>Pours a clouded gold with a thin white head. N...</td>\n",
       "      <td>{'min': 38, 'hour': 3, 'mday': 16, 'sec': 10, ...</td>\n",
       "      <td>1229398690</td>\n",
       "      <td>NaN</td>\n",
       "      <td>NaN</td>\n",
       "      <td>NaN</td>\n",
       "      <td>NaN</td>\n",
       "      <td>RblWthACoz</td>\n",
       "    </tr>\n",
       "    <tr>\n",
       "      <td>1</td>\n",
       "      <td>8135</td>\n",
       "      <td>11.0</td>\n",
       "      <td>3003</td>\n",
       "      <td>395</td>\n",
       "      <td>Bearded Pat's Barleywine</td>\n",
       "      <td>American Barleywine</td>\n",
       "      <td>4.0</td>\n",
       "      <td>3.5</td>\n",
       "      <td>3.5</td>\n",
       "      <td>3.5</td>\n",
       "      <td>3.0</td>\n",
       "      <td>12oz bottle into 8oz snifter.\\t\\tDeep ruby red...</td>\n",
       "      <td>{'min': 38, 'hour': 23, 'mday': 8, 'sec': 58, ...</td>\n",
       "      <td>1218238738</td>\n",
       "      <td>NaN</td>\n",
       "      <td>NaN</td>\n",
       "      <td>NaN</td>\n",
       "      <td>NaN</td>\n",
       "      <td>BeerSox</td>\n",
       "    </tr>\n",
       "    <tr>\n",
       "      <td>2</td>\n",
       "      <td>10529</td>\n",
       "      <td>4.7</td>\n",
       "      <td>961</td>\n",
       "      <td>365</td>\n",
       "      <td>Naughty Nellie's Ale</td>\n",
       "      <td>American Pale Ale (APA)</td>\n",
       "      <td>3.5</td>\n",
       "      <td>4.0</td>\n",
       "      <td>3.5</td>\n",
       "      <td>3.5</td>\n",
       "      <td>3.5</td>\n",
       "      <td>First enjoyed at the brewpub about 2 years ago...</td>\n",
       "      <td>{'min': 7, 'hour': 18, 'mday': 26, 'sec': 2, '...</td>\n",
       "      <td>1101492422</td>\n",
       "      <td>NaN</td>\n",
       "      <td>NaN</td>\n",
       "      <td>NaN</td>\n",
       "      <td>Male</td>\n",
       "      <td>mschofield</td>\n",
       "    </tr>\n",
       "    <tr>\n",
       "      <td>3</td>\n",
       "      <td>44610</td>\n",
       "      <td>4.4</td>\n",
       "      <td>429</td>\n",
       "      <td>1</td>\n",
       "      <td>Pilsner Urquell</td>\n",
       "      <td>Czech Pilsener</td>\n",
       "      <td>3.0</td>\n",
       "      <td>3.0</td>\n",
       "      <td>2.5</td>\n",
       "      <td>3.0</td>\n",
       "      <td>3.0</td>\n",
       "      <td>First thing I noticed after pouring from green...</td>\n",
       "      <td>{'min': 7, 'hour': 1, 'mday': 20, 'sec': 5, 'y...</td>\n",
       "      <td>1308532025</td>\n",
       "      <td>1.209827e+09</td>\n",
       "      <td>Aug 10, 1976</td>\n",
       "      <td>208508400.0</td>\n",
       "      <td>Male</td>\n",
       "      <td>molegar76</td>\n",
       "    </tr>\n",
       "    <tr>\n",
       "      <td>4</td>\n",
       "      <td>37062</td>\n",
       "      <td>4.4</td>\n",
       "      <td>4904</td>\n",
       "      <td>1417</td>\n",
       "      <td>Black Sheep Ale (Special)</td>\n",
       "      <td>English Pale Ale</td>\n",
       "      <td>4.0</td>\n",
       "      <td>3.0</td>\n",
       "      <td>3.0</td>\n",
       "      <td>3.5</td>\n",
       "      <td>2.5</td>\n",
       "      <td>A: pours an amber with a one finger head but o...</td>\n",
       "      <td>{'min': 51, 'hour': 6, 'mday': 12, 'sec': 48, ...</td>\n",
       "      <td>1299912708</td>\n",
       "      <td>NaN</td>\n",
       "      <td>NaN</td>\n",
       "      <td>NaN</td>\n",
       "      <td>NaN</td>\n",
       "      <td>Brewbro000</td>\n",
       "    </tr>\n",
       "  </tbody>\n",
       "</table>\n",
       "</div>"
      ],
      "text/plain": [
       "   index  beer/ABV  beer/beerId  beer/brewerId                  beer/name  \\\n",
       "0  40163       5.0        46634          14338                   Chiostro   \n",
       "1   8135      11.0         3003            395   Bearded Pat's Barleywine   \n",
       "2  10529       4.7          961            365       Naughty Nellie's Ale   \n",
       "3  44610       4.4          429              1            Pilsner Urquell   \n",
       "4  37062       4.4         4904           1417  Black Sheep Ale (Special)   \n",
       "\n",
       "                beer/style  review/appearance  review/aroma  review/overall  \\\n",
       "0     Herbed / Spiced Beer                4.0           4.0             4.0   \n",
       "1      American Barleywine                4.0           3.5             3.5   \n",
       "2  American Pale Ale (APA)                3.5           4.0             3.5   \n",
       "3           Czech Pilsener                3.0           3.0             2.5   \n",
       "4         English Pale Ale                4.0           3.0             3.0   \n",
       "\n",
       "   review/palate  review/taste  \\\n",
       "0            4.0           4.0   \n",
       "1            3.5           3.0   \n",
       "2            3.5           3.5   \n",
       "3            3.0           3.0   \n",
       "4            3.5           2.5   \n",
       "\n",
       "                                         review/text  \\\n",
       "0  Pours a clouded gold with a thin white head. N...   \n",
       "1  12oz bottle into 8oz snifter.\\t\\tDeep ruby red...   \n",
       "2  First enjoyed at the brewpub about 2 years ago...   \n",
       "3  First thing I noticed after pouring from green...   \n",
       "4  A: pours an amber with a one finger head but o...   \n",
       "\n",
       "                                   review/timeStruct  review/timeUnix  \\\n",
       "0  {'min': 38, 'hour': 3, 'mday': 16, 'sec': 10, ...       1229398690   \n",
       "1  {'min': 38, 'hour': 23, 'mday': 8, 'sec': 58, ...       1218238738   \n",
       "2  {'min': 7, 'hour': 18, 'mday': 26, 'sec': 2, '...       1101492422   \n",
       "3  {'min': 7, 'hour': 1, 'mday': 20, 'sec': 5, 'y...       1308532025   \n",
       "4  {'min': 51, 'hour': 6, 'mday': 12, 'sec': 48, ...       1299912708   \n",
       "\n",
       "   user/ageInSeconds user/birthdayRaw  user/birthdayUnix user/gender  \\\n",
       "0                NaN              NaN                NaN         NaN   \n",
       "1                NaN              NaN                NaN         NaN   \n",
       "2                NaN              NaN                NaN        Male   \n",
       "3       1.209827e+09     Aug 10, 1976        208508400.0        Male   \n",
       "4                NaN              NaN                NaN         NaN   \n",
       "\n",
       "  user/profileName  \n",
       "0       RblWthACoz  \n",
       "1          BeerSox  \n",
       "2       mschofield  \n",
       "3        molegar76  \n",
       "4       Brewbro000  "
      ]
     },
     "execution_count": 29,
     "metadata": {},
     "output_type": "execute_result"
    }
   ],
   "source": [
    "DF = pd.read_csv(\"train.csv\")\n",
    "DF.head()"
   ]
  },
  {
   "cell_type": "code",
   "execution_count": 30,
   "metadata": {},
   "outputs": [
    {
     "data": {
      "text/plain": [
       "(37500, 19)"
      ]
     },
     "execution_count": 30,
     "metadata": {},
     "output_type": "execute_result"
    }
   ],
   "source": [
    "# Let's check the dimensions of the dataframe\n",
    "DF.shape"
   ]
  },
  {
   "cell_type": "code",
   "execution_count": 31,
   "metadata": {},
   "outputs": [
    {
     "data": {
      "text/html": [
       "<div>\n",
       "<style scoped>\n",
       "    .dataframe tbody tr th:only-of-type {\n",
       "        vertical-align: middle;\n",
       "    }\n",
       "\n",
       "    .dataframe tbody tr th {\n",
       "        vertical-align: top;\n",
       "    }\n",
       "\n",
       "    .dataframe thead th {\n",
       "        text-align: right;\n",
       "    }\n",
       "</style>\n",
       "<table border=\"1\" class=\"dataframe\">\n",
       "  <thead>\n",
       "    <tr style=\"text-align: right;\">\n",
       "      <th></th>\n",
       "      <th>index</th>\n",
       "      <th>beer/ABV</th>\n",
       "      <th>beer/beerId</th>\n",
       "      <th>beer/brewerId</th>\n",
       "      <th>review/appearance</th>\n",
       "      <th>review/aroma</th>\n",
       "      <th>review/overall</th>\n",
       "      <th>review/palate</th>\n",
       "      <th>review/taste</th>\n",
       "      <th>review/timeUnix</th>\n",
       "      <th>user/ageInSeconds</th>\n",
       "      <th>user/birthdayUnix</th>\n",
       "    </tr>\n",
       "  </thead>\n",
       "  <tbody>\n",
       "    <tr>\n",
       "      <td>count</td>\n",
       "      <td>37500.000000</td>\n",
       "      <td>37500.000000</td>\n",
       "      <td>37500.000000</td>\n",
       "      <td>37500.000000</td>\n",
       "      <td>37500.000000</td>\n",
       "      <td>37500.000000</td>\n",
       "      <td>37500.00000</td>\n",
       "      <td>37500.000000</td>\n",
       "      <td>37500.000000</td>\n",
       "      <td>3.750000e+04</td>\n",
       "      <td>7.856000e+03</td>\n",
       "      <td>7.856000e+03</td>\n",
       "    </tr>\n",
       "    <tr>\n",
       "      <td>mean</td>\n",
       "      <td>24951.887573</td>\n",
       "      <td>7.403725</td>\n",
       "      <td>21861.152027</td>\n",
       "      <td>3036.595120</td>\n",
       "      <td>3.900053</td>\n",
       "      <td>3.873240</td>\n",
       "      <td>3.88944</td>\n",
       "      <td>3.854867</td>\n",
       "      <td>3.922440</td>\n",
       "      <td>1.232794e+09</td>\n",
       "      <td>1.176705e+09</td>\n",
       "      <td>2.416303e+08</td>\n",
       "    </tr>\n",
       "    <tr>\n",
       "      <td>std</td>\n",
       "      <td>14434.009669</td>\n",
       "      <td>2.318145</td>\n",
       "      <td>18923.130832</td>\n",
       "      <td>5123.084675</td>\n",
       "      <td>0.588778</td>\n",
       "      <td>0.680865</td>\n",
       "      <td>0.70045</td>\n",
       "      <td>0.668068</td>\n",
       "      <td>0.716504</td>\n",
       "      <td>7.190955e+07</td>\n",
       "      <td>3.375514e+08</td>\n",
       "      <td>3.375514e+08</td>\n",
       "    </tr>\n",
       "    <tr>\n",
       "      <td>min</td>\n",
       "      <td>0.000000</td>\n",
       "      <td>0.100000</td>\n",
       "      <td>175.000000</td>\n",
       "      <td>1.000000</td>\n",
       "      <td>0.000000</td>\n",
       "      <td>1.000000</td>\n",
       "      <td>0.00000</td>\n",
       "      <td>1.000000</td>\n",
       "      <td>1.000000</td>\n",
       "      <td>9.262944e+08</td>\n",
       "      <td>7.034366e+08</td>\n",
       "      <td>-2.208960e+09</td>\n",
       "    </tr>\n",
       "    <tr>\n",
       "      <td>25%</td>\n",
       "      <td>12422.500000</td>\n",
       "      <td>5.400000</td>\n",
       "      <td>5441.000000</td>\n",
       "      <td>395.000000</td>\n",
       "      <td>3.500000</td>\n",
       "      <td>3.500000</td>\n",
       "      <td>3.50000</td>\n",
       "      <td>3.500000</td>\n",
       "      <td>3.500000</td>\n",
       "      <td>1.189194e+09</td>\n",
       "      <td>9.794810e+08</td>\n",
       "      <td>1.433628e+08</td>\n",
       "    </tr>\n",
       "    <tr>\n",
       "      <td>50%</td>\n",
       "      <td>24942.500000</td>\n",
       "      <td>6.900000</td>\n",
       "      <td>17538.000000</td>\n",
       "      <td>1199.000000</td>\n",
       "      <td>4.000000</td>\n",
       "      <td>4.000000</td>\n",
       "      <td>4.00000</td>\n",
       "      <td>4.000000</td>\n",
       "      <td>4.000000</td>\n",
       "      <td>1.248150e+09</td>\n",
       "      <td>1.100009e+09</td>\n",
       "      <td>3.183264e+08</td>\n",
       "    </tr>\n",
       "    <tr>\n",
       "      <td>75%</td>\n",
       "      <td>37416.750000</td>\n",
       "      <td>9.400000</td>\n",
       "      <td>34146.000000</td>\n",
       "      <td>1315.000000</td>\n",
       "      <td>4.500000</td>\n",
       "      <td>4.500000</td>\n",
       "      <td>4.50000</td>\n",
       "      <td>4.500000</td>\n",
       "      <td>4.500000</td>\n",
       "      <td>1.291330e+09</td>\n",
       "      <td>1.274973e+09</td>\n",
       "      <td>4.388544e+08</td>\n",
       "    </tr>\n",
       "    <tr>\n",
       "      <td>max</td>\n",
       "      <td>49999.000000</td>\n",
       "      <td>57.700000</td>\n",
       "      <td>77207.000000</td>\n",
       "      <td>27797.000000</td>\n",
       "      <td>5.000000</td>\n",
       "      <td>5.000000</td>\n",
       "      <td>5.00000</td>\n",
       "      <td>5.000000</td>\n",
       "      <td>5.000000</td>\n",
       "      <td>1.326267e+09</td>\n",
       "      <td>3.627295e+09</td>\n",
       "      <td>7.148988e+08</td>\n",
       "    </tr>\n",
       "  </tbody>\n",
       "</table>\n",
       "</div>"
      ],
      "text/plain": [
       "              index      beer/ABV   beer/beerId  beer/brewerId  \\\n",
       "count  37500.000000  37500.000000  37500.000000   37500.000000   \n",
       "mean   24951.887573      7.403725  21861.152027    3036.595120   \n",
       "std    14434.009669      2.318145  18923.130832    5123.084675   \n",
       "min        0.000000      0.100000    175.000000       1.000000   \n",
       "25%    12422.500000      5.400000   5441.000000     395.000000   \n",
       "50%    24942.500000      6.900000  17538.000000    1199.000000   \n",
       "75%    37416.750000      9.400000  34146.000000    1315.000000   \n",
       "max    49999.000000     57.700000  77207.000000   27797.000000   \n",
       "\n",
       "       review/appearance  review/aroma  review/overall  review/palate  \\\n",
       "count       37500.000000  37500.000000     37500.00000   37500.000000   \n",
       "mean            3.900053      3.873240         3.88944       3.854867   \n",
       "std             0.588778      0.680865         0.70045       0.668068   \n",
       "min             0.000000      1.000000         0.00000       1.000000   \n",
       "25%             3.500000      3.500000         3.50000       3.500000   \n",
       "50%             4.000000      4.000000         4.00000       4.000000   \n",
       "75%             4.500000      4.500000         4.50000       4.500000   \n",
       "max             5.000000      5.000000         5.00000       5.000000   \n",
       "\n",
       "       review/taste  review/timeUnix  user/ageInSeconds  user/birthdayUnix  \n",
       "count  37500.000000     3.750000e+04       7.856000e+03       7.856000e+03  \n",
       "mean       3.922440     1.232794e+09       1.176705e+09       2.416303e+08  \n",
       "std        0.716504     7.190955e+07       3.375514e+08       3.375514e+08  \n",
       "min        1.000000     9.262944e+08       7.034366e+08      -2.208960e+09  \n",
       "25%        3.500000     1.189194e+09       9.794810e+08       1.433628e+08  \n",
       "50%        4.000000     1.248150e+09       1.100009e+09       3.183264e+08  \n",
       "75%        4.500000     1.291330e+09       1.274973e+09       4.388544e+08  \n",
       "max        5.000000     1.326267e+09       3.627295e+09       7.148988e+08  "
      ]
     },
     "execution_count": 31,
     "metadata": {},
     "output_type": "execute_result"
    }
   ],
   "source": [
    "# let's look at the statistical aspects of the dataframe\n",
    "DF.describe()"
   ]
  },
  {
   "cell_type": "code",
   "execution_count": 32,
   "metadata": {},
   "outputs": [
    {
     "name": "stdout",
     "output_type": "stream",
     "text": [
      "<class 'pandas.core.frame.DataFrame'>\n",
      "RangeIndex: 37500 entries, 0 to 37499\n",
      "Data columns (total 19 columns):\n",
      "index                37500 non-null int64\n",
      "beer/ABV             37500 non-null float64\n",
      "beer/beerId          37500 non-null int64\n",
      "beer/brewerId        37500 non-null int64\n",
      "beer/name            37500 non-null object\n",
      "beer/style           37500 non-null object\n",
      "review/appearance    37500 non-null float64\n",
      "review/aroma         37500 non-null float64\n",
      "review/overall       37500 non-null float64\n",
      "review/palate        37500 non-null float64\n",
      "review/taste         37500 non-null float64\n",
      "review/text          37490 non-null object\n",
      "review/timeStruct    37500 non-null object\n",
      "review/timeUnix      37500 non-null int64\n",
      "user/ageInSeconds    7856 non-null float64\n",
      "user/birthdayRaw     7856 non-null object\n",
      "user/birthdayUnix    7856 non-null float64\n",
      "user/gender          15314 non-null object\n",
      "user/profileName     37495 non-null object\n",
      "dtypes: float64(8), int64(4), object(7)\n",
      "memory usage: 5.4+ MB\n"
     ]
    }
   ],
   "source": [
    "# Let's see the type of each column\n",
    "DF.info()"
   ]
  },
  {
   "cell_type": "code",
   "execution_count": 33,
   "metadata": {},
   "outputs": [
    {
     "data": {
      "text/plain": [
       "index                    0\n",
       "beer/ABV                 0\n",
       "beer/beerId              0\n",
       "beer/brewerId            0\n",
       "beer/name                0\n",
       "beer/style               0\n",
       "review/appearance        0\n",
       "review/aroma             0\n",
       "review/overall           0\n",
       "review/palate            0\n",
       "review/taste             0\n",
       "review/text             10\n",
       "review/timeStruct        0\n",
       "review/timeUnix          0\n",
       "user/ageInSeconds    29644\n",
       "user/birthdayRaw     29644\n",
       "user/birthdayUnix    29644\n",
       "user/gender          22186\n",
       "user/profileName         5\n",
       "dtype: int64"
      ]
     },
     "execution_count": 33,
     "metadata": {},
     "output_type": "execute_result"
    }
   ],
   "source": [
    "# Adding up the missing values (column-wise)\n",
    "DF.isnull().sum()"
   ]
  },
  {
   "cell_type": "code",
   "execution_count": 34,
   "metadata": {},
   "outputs": [
    {
     "data": {
      "text/plain": [
       "index                 0.00\n",
       "beer/ABV              0.00\n",
       "beer/beerId           0.00\n",
       "beer/brewerId         0.00\n",
       "beer/name             0.00\n",
       "beer/style            0.00\n",
       "review/appearance     0.00\n",
       "review/aroma          0.00\n",
       "review/overall        0.00\n",
       "review/palate         0.00\n",
       "review/taste          0.00\n",
       "review/text           0.03\n",
       "review/timeStruct     0.00\n",
       "review/timeUnix       0.00\n",
       "user/ageInSeconds    79.05\n",
       "user/birthdayRaw     79.05\n",
       "user/birthdayUnix    79.05\n",
       "user/gender          59.16\n",
       "user/profileName      0.01\n",
       "dtype: float64"
      ]
     },
     "execution_count": 34,
     "metadata": {},
     "output_type": "execute_result"
    }
   ],
   "source": [
    "# Checking the percentage of missing values\n",
    "round(100*(DF.isnull().sum()/len(DF.index)), 2)"
   ]
  },
  {
   "cell_type": "raw",
   "metadata": {},
   "source": [
    "As We can see there are few columns having more than 50% of values ,so its better to drop them\n",
    "We will consider only columns having less than 25 % missing values ."
   ]
  },
  {
   "cell_type": "code",
   "execution_count": 35,
   "metadata": {},
   "outputs": [
    {
     "data": {
      "text/plain": [
       "(37500, 15)"
      ]
     },
     "execution_count": 35,
     "metadata": {},
     "output_type": "execute_result"
    }
   ],
   "source": [
    "DF=DF[DF.columns[DF.isna().sum()*100/DF.shape[0]<=25]]\n",
    "DF.shape"
   ]
  },
  {
   "cell_type": "code",
   "execution_count": 36,
   "metadata": {},
   "outputs": [
    {
     "data": {
      "text/plain": [
       "index                0.00\n",
       "beer/ABV             0.00\n",
       "beer/beerId          0.00\n",
       "beer/brewerId        0.00\n",
       "beer/name            0.00\n",
       "beer/style           0.00\n",
       "review/appearance    0.00\n",
       "review/aroma         0.00\n",
       "review/overall       0.00\n",
       "review/palate        0.00\n",
       "review/taste         0.00\n",
       "review/text          0.03\n",
       "review/timeStruct    0.00\n",
       "review/timeUnix      0.00\n",
       "user/profileName     0.01\n",
       "dtype: float64"
      ]
     },
     "execution_count": 36,
     "metadata": {},
     "output_type": "execute_result"
    }
   ],
   "source": [
    "round(100*(DF.isnull().sum()/len(DF.index)), 2)"
   ]
  },
  {
   "cell_type": "code",
   "execution_count": 37,
   "metadata": {},
   "outputs": [],
   "source": [
    "# Removing Nan rows from review/text, user/profileName\n",
    "DF.dropna(subset= ['review/text'], inplace = True)\n",
    "DF.dropna(subset= ['user/profileName'], inplace = True)"
   ]
  },
  {
   "cell_type": "code",
   "execution_count": 38,
   "metadata": {},
   "outputs": [
    {
     "data": {
      "text/plain": [
       "index                0.0\n",
       "beer/ABV             0.0\n",
       "beer/beerId          0.0\n",
       "beer/brewerId        0.0\n",
       "beer/name            0.0\n",
       "beer/style           0.0\n",
       "review/appearance    0.0\n",
       "review/aroma         0.0\n",
       "review/overall       0.0\n",
       "review/palate        0.0\n",
       "review/taste         0.0\n",
       "review/text          0.0\n",
       "review/timeStruct    0.0\n",
       "review/timeUnix      0.0\n",
       "user/profileName     0.0\n",
       "dtype: float64"
      ]
     },
     "execution_count": 38,
     "metadata": {},
     "output_type": "execute_result"
    }
   ],
   "source": [
    "round(100*(DF.isnull().sum()/len(DF.index)), 2)"
   ]
  },
  {
   "cell_type": "raw",
   "metadata": {},
   "source": [
    "Now we can see there are no missing values present in our dataframe."
   ]
  },
  {
   "cell_type": "code",
   "execution_count": 39,
   "metadata": {},
   "outputs": [
    {
     "data": {
      "text/plain": [
       "Index(['beer/name', 'beer/style', 'review/text', 'review/timeStruct',\n",
       "       'user/profileName'],\n",
       "      dtype='object')"
      ]
     },
     "execution_count": 39,
     "metadata": {},
     "output_type": "execute_result"
    }
   ],
   "source": [
    "# categorical columns \n",
    "Categorical_columns = DF.select_dtypes(exclude=np.number).columns\n",
    "Categorical_columns"
   ]
  },
  {
   "cell_type": "code",
   "execution_count": 40,
   "metadata": {},
   "outputs": [
    {
     "data": {
      "image/png": "[encoded data removed]",
      "text/plain": [
       "<Figure size 432x288 with 1 Axes>"
      ]
     },
     "metadata": {
      "needs_background": "light"
     },
     "output_type": "display_data"
    }
   ],
   "source": [
    "# Correlation between 'review/appearance' and 'review/overall'  \n",
    "sns.regplot(x=\"review/appearance\", y=\"review/overall\", data=DF);"
   ]
  },
  {
   "cell_type": "code",
   "execution_count": 41,
   "metadata": {},
   "outputs": [
    {
     "data": {
      "image/png": "[encoded data removed]",
      "text/plain": [
       "<Figure size 432x288 with 1 Axes>"
      ]
     },
     "metadata": {
      "needs_background": "light"
     },
     "output_type": "display_data"
    }
   ],
   "source": [
    "# Correlation between 'review/aroma' and 'review/overall'  \n",
    "sns.regplot(x=\"review/aroma\", y=\"review/overall\", data=DF);"
   ]
  },
  {
   "cell_type": "code",
   "execution_count": 42,
   "metadata": {},
   "outputs": [
    {
     "data": {
      "image/png": "[encoded data removed]",
      "text/plain": [
       "<Figure size 432x288 with 1 Axes>"
      ]
     },
     "metadata": {
      "needs_background": "light"
     },
     "output_type": "display_data"
    }
   ],
   "source": [
    "# Correlation between 'review/palate' and 'review/overall'  \n",
    "sns.regplot(x=\"review/palate\", y=\"review/overall\", data=DF);"
   ]
  },
  {
   "cell_type": "code",
   "execution_count": 43,
   "metadata": {},
   "outputs": [
    {
     "data": {
      "image/png": "[encoded data removed]",
      "text/plain": [
       "<Figure size 432x288 with 1 Axes>"
      ]
     },
     "metadata": {
      "needs_background": "light"
     },
     "output_type": "display_data"
    }
   ],
   "source": [
    "# Correlation between 'review/taste' and 'review/overall'  \n",
    "sns.regplot(x=\"review/taste\", y=\"review/overall\", data=DF);"
   ]
  },
  {
   "cell_type": "code",
   "execution_count": 45,
   "metadata": {},
   "outputs": [
    {
     "data": {
      "text/html": [
       "<div>\n",
       "<style scoped>\n",
       "    .dataframe tbody tr th:only-of-type {\n",
       "        vertical-align: middle;\n",
       "    }\n",
       "\n",
       "    .dataframe tbody tr th {\n",
       "        vertical-align: top;\n",
       "    }\n",
       "\n",
       "    .dataframe thead th {\n",
       "        text-align: right;\n",
       "    }\n",
       "</style>\n",
       "<table border=\"1\" class=\"dataframe\">\n",
       "  <thead>\n",
       "    <tr style=\"text-align: right;\">\n",
       "      <th></th>\n",
       "      <th>index</th>\n",
       "      <th>beer/ABV</th>\n",
       "      <th>beer/beerId</th>\n",
       "      <th>beer/brewerId</th>\n",
       "      <th>review/appearance</th>\n",
       "      <th>review/aroma</th>\n",
       "      <th>review/overall</th>\n",
       "      <th>review/palate</th>\n",
       "      <th>review/taste</th>\n",
       "      <th>review/timeUnix</th>\n",
       "    </tr>\n",
       "  </thead>\n",
       "  <tbody>\n",
       "    <tr>\n",
       "      <td>0</td>\n",
       "      <td>40163</td>\n",
       "      <td>5.00</td>\n",
       "      <td>46634</td>\n",
       "      <td>14338</td>\n",
       "      <td>4.0</td>\n",
       "      <td>4.0</td>\n",
       "      <td>4.0</td>\n",
       "      <td>4.0</td>\n",
       "      <td>4.0</td>\n",
       "      <td>1229398690</td>\n",
       "    </tr>\n",
       "    <tr>\n",
       "      <td>1</td>\n",
       "      <td>8135</td>\n",
       "      <td>11.00</td>\n",
       "      <td>3003</td>\n",
       "      <td>395</td>\n",
       "      <td>4.0</td>\n",
       "      <td>3.5</td>\n",
       "      <td>3.5</td>\n",
       "      <td>3.5</td>\n",
       "      <td>3.0</td>\n",
       "      <td>1218238738</td>\n",
       "    </tr>\n",
       "    <tr>\n",
       "      <td>2</td>\n",
       "      <td>10529</td>\n",
       "      <td>4.70</td>\n",
       "      <td>961</td>\n",
       "      <td>365</td>\n",
       "      <td>3.5</td>\n",
       "      <td>4.0</td>\n",
       "      <td>3.5</td>\n",
       "      <td>3.5</td>\n",
       "      <td>3.5</td>\n",
       "      <td>1101492422</td>\n",
       "    </tr>\n",
       "    <tr>\n",
       "      <td>3</td>\n",
       "      <td>44610</td>\n",
       "      <td>4.40</td>\n",
       "      <td>429</td>\n",
       "      <td>1</td>\n",
       "      <td>3.0</td>\n",
       "      <td>3.0</td>\n",
       "      <td>2.5</td>\n",
       "      <td>3.0</td>\n",
       "      <td>3.0</td>\n",
       "      <td>1308532025</td>\n",
       "    </tr>\n",
       "    <tr>\n",
       "      <td>4</td>\n",
       "      <td>37062</td>\n",
       "      <td>4.40</td>\n",
       "      <td>4904</td>\n",
       "      <td>1417</td>\n",
       "      <td>4.0</td>\n",
       "      <td>3.0</td>\n",
       "      <td>3.0</td>\n",
       "      <td>3.5</td>\n",
       "      <td>2.5</td>\n",
       "      <td>1299912708</td>\n",
       "    </tr>\n",
       "    <tr>\n",
       "      <td>...</td>\n",
       "      <td>...</td>\n",
       "      <td>...</td>\n",
       "      <td>...</td>\n",
       "      <td>...</td>\n",
       "      <td>...</td>\n",
       "      <td>...</td>\n",
       "      <td>...</td>\n",
       "      <td>...</td>\n",
       "      <td>...</td>\n",
       "      <td>...</td>\n",
       "    </tr>\n",
       "    <tr>\n",
       "      <td>37495</td>\n",
       "      <td>35175</td>\n",
       "      <td>5.50</td>\n",
       "      <td>22450</td>\n",
       "      <td>3268</td>\n",
       "      <td>4.0</td>\n",
       "      <td>3.5</td>\n",
       "      <td>3.5</td>\n",
       "      <td>3.5</td>\n",
       "      <td>3.5</td>\n",
       "      <td>1207871761</td>\n",
       "    </tr>\n",
       "    <tr>\n",
       "      <td>37496</td>\n",
       "      <td>23666</td>\n",
       "      <td>8.50</td>\n",
       "      <td>7463</td>\n",
       "      <td>1199</td>\n",
       "      <td>4.5</td>\n",
       "      <td>4.0</td>\n",
       "      <td>3.5</td>\n",
       "      <td>4.5</td>\n",
       "      <td>4.5</td>\n",
       "      <td>1263102314</td>\n",
       "    </tr>\n",
       "    <tr>\n",
       "      <td>37497</td>\n",
       "      <td>47720</td>\n",
       "      <td>4.75</td>\n",
       "      <td>1154</td>\n",
       "      <td>394</td>\n",
       "      <td>4.0</td>\n",
       "      <td>3.5</td>\n",
       "      <td>4.0</td>\n",
       "      <td>4.5</td>\n",
       "      <td>4.0</td>\n",
       "      <td>1067043816</td>\n",
       "    </tr>\n",
       "    <tr>\n",
       "      <td>37498</td>\n",
       "      <td>33233</td>\n",
       "      <td>11.20</td>\n",
       "      <td>19960</td>\n",
       "      <td>1199</td>\n",
       "      <td>4.0</td>\n",
       "      <td>4.0</td>\n",
       "      <td>4.0</td>\n",
       "      <td>5.0</td>\n",
       "      <td>5.0</td>\n",
       "      <td>1296330753</td>\n",
       "    </tr>\n",
       "    <tr>\n",
       "      <td>37499</td>\n",
       "      <td>23758</td>\n",
       "      <td>8.50</td>\n",
       "      <td>7463</td>\n",
       "      <td>1199</td>\n",
       "      <td>4.0</td>\n",
       "      <td>4.0</td>\n",
       "      <td>4.0</td>\n",
       "      <td>4.5</td>\n",
       "      <td>4.0</td>\n",
       "      <td>1252089628</td>\n",
       "    </tr>\n",
       "  </tbody>\n",
       "</table>\n",
       "<p>37485 rows × 10 columns</p>\n",
       "</div>"
      ],
      "text/plain": [
       "       index  beer/ABV  beer/beerId  beer/brewerId  review/appearance  \\\n",
       "0      40163      5.00        46634          14338                4.0   \n",
       "1       8135     11.00         3003            395                4.0   \n",
       "2      10529      4.70          961            365                3.5   \n",
       "3      44610      4.40          429              1                3.0   \n",
       "4      37062      4.40         4904           1417                4.0   \n",
       "...      ...       ...          ...            ...                ...   \n",
       "37495  35175      5.50        22450           3268                4.0   \n",
       "37496  23666      8.50         7463           1199                4.5   \n",
       "37497  47720      4.75         1154            394                4.0   \n",
       "37498  33233     11.20        19960           1199                4.0   \n",
       "37499  23758      8.50         7463           1199                4.0   \n",
       "\n",
       "       review/aroma  review/overall  review/palate  review/taste  \\\n",
       "0               4.0             4.0            4.0           4.0   \n",
       "1               3.5             3.5            3.5           3.0   \n",
       "2               4.0             3.5            3.5           3.5   \n",
       "3               3.0             2.5            3.0           3.0   \n",
       "4               3.0             3.0            3.5           2.5   \n",
       "...             ...             ...            ...           ...   \n",
       "37495           3.5             3.5            3.5           3.5   \n",
       "37496           4.0             3.5            4.5           4.5   \n",
       "37497           3.5             4.0            4.5           4.0   \n",
       "37498           4.0             4.0            5.0           5.0   \n",
       "37499           4.0             4.0            4.5           4.0   \n",
       "\n",
       "       review/timeUnix  \n",
       "0           1229398690  \n",
       "1           1218238738  \n",
       "2           1101492422  \n",
       "3           1308532025  \n",
       "4           1299912708  \n",
       "...                ...  \n",
       "37495       1207871761  \n",
       "37496       1263102314  \n",
       "37497       1067043816  \n",
       "37498       1296330753  \n",
       "37499       1252089628  \n",
       "\n",
       "[37485 rows x 10 columns]"
      ]
     },
     "execution_count": 45,
     "metadata": {},
     "output_type": "execute_result"
    }
   ],
   "source": [
    "# checking collinearity:\n",
    "DF_num=DF.select_dtypes(include=np.number)\n",
    "DF_num"
   ]
  },
  {
   "cell_type": "code",
   "execution_count": 48,
   "metadata": {},
   "outputs": [
    {
     "data": {
      "text/plain": [
       "<matplotlib.axes._subplots.AxesSubplot at 0x28b85b0ec08>"
      ]
     },
     "execution_count": 48,
     "metadata": {},
     "output_type": "execute_result"
    },
    {
     "data": {
      "image/png": "[encoded data removed]",
      "text/plain": [
       "<Figure size 2160x864 with 2 Axes>"
      ]
     },
     "metadata": {
      "needs_background": "light"
     },
     "output_type": "display_data"
    }
   ],
   "source": [
    "#Check for collinearity using corelation matrix.\n",
    "cor_mat= DF_num[:].corr()\n",
    "mask = np.array(cor_mat)\n",
    "mask[np.tril_indices_from(mask)] = False\n",
    "fig=plt.gcf()\n",
    "fig.set_size_inches(30,12)\n",
    "sns.heatmap(data=cor_mat,mask=mask,square=True,annot=True,cbar=True)"
   ]
  },
  {
   "cell_type": "code",
   "execution_count": null,
   "metadata": {},
   "outputs": [],
   "source": [
    "###-----------Model Building ------------###"
   ]
  },
  {
   "cell_type": "code",
   "execution_count": 57,
   "metadata": {},
   "outputs": [],
   "source": [
    "x = DF_num.drop('review/overall', axis=1)\n",
    "y = DF_num['review/overall']"
   ]
  },
  {
   "cell_type": "code",
   "execution_count": 59,
   "metadata": {},
   "outputs": [],
   "source": [
    "from sklearn.model_selection import train_test_split\n",
    "x_train,x_test,y_train,y_test=train_test_split(x,y,test_size=0.2,random_state=0)"
   ]
  },
  {
   "cell_type": "code",
   "execution_count": 60,
   "metadata": {},
   "outputs": [
    {
     "name": "stdout",
     "output_type": "stream",
     "text": [
      "intercept:  0.3038180662292689\n",
      "coef:  [-4.91615561e-07 -4.33435593e-02 -8.52254591e-08 -5.95545519e-07\n",
      "  6.37914617e-02  9.39138525e-02  2.67406084e-01  5.42251718e-01\n",
      "  1.23355638e-10]\n",
      "rscore.  0.6687834529836386\n"
     ]
    }
   ],
   "source": [
    "from sklearn.linear_model import LinearRegression\n",
    "\n",
    "reg = LinearRegression()\n",
    "model = reg.fit(X,y)\n",
    "print(\"intercept: \", model.intercept_)\n",
    "print(\"coef: \", model.coef_)\n",
    "print(\"rscore. \", model.score(X,y))"
   ]
  },
  {
   "cell_type": "code",
   "execution_count": 61,
   "metadata": {},
   "outputs": [
    {
     "data": {
      "text/html": [
       "<table class=\"simpletable\">\n",
       "<caption>OLS Regression Results</caption>\n",
       "<tr>\n",
       "  <th>Dep. Variable:</th>     <td>review/overall</td>  <th>  R-squared (uncentered):</th>      <td>   0.990</td> \n",
       "</tr>\n",
       "<tr>\n",
       "  <th>Model:</th>                   <td>OLS</td>       <th>  Adj. R-squared (uncentered):</th> <td>   0.990</td> \n",
       "</tr>\n",
       "<tr>\n",
       "  <th>Method:</th>             <td>Least Squares</td>  <th>  F-statistic:       </th>          <td>3.954e+05</td>\n",
       "</tr>\n",
       "<tr>\n",
       "  <th>Date:</th>             <td>Wed, 04 Nov 2020</td> <th>  Prob (F-statistic):</th>           <td>  0.00</td>  \n",
       "</tr>\n",
       "<tr>\n",
       "  <th>Time:</th>                 <td>21:54:27</td>     <th>  Log-Likelihood:    </th>          <td> -19158.</td> \n",
       "</tr>\n",
       "<tr>\n",
       "  <th>No. Observations:</th>      <td> 37485</td>      <th>  AIC:               </th>          <td>3.833e+04</td>\n",
       "</tr>\n",
       "<tr>\n",
       "  <th>Df Residuals:</th>          <td> 37476</td>      <th>  BIC:               </th>          <td>3.841e+04</td>\n",
       "</tr>\n",
       "<tr>\n",
       "  <th>Df Model:</th>              <td>     9</td>      <th>                     </th>              <td> </td>    \n",
       "</tr>\n",
       "<tr>\n",
       "  <th>Covariance Type:</th>      <td>nonrobust</td>    <th>                     </th>              <td> </td>    \n",
       "</tr>\n",
       "</table>\n",
       "<table class=\"simpletable\">\n",
       "<tr>\n",
       "          <td></td>             <th>coef</th>     <th>std err</th>      <th>t</th>      <th>P>|t|</th>  <th>[0.025</th>    <th>0.975]</th>  \n",
       "</tr>\n",
       "<tr>\n",
       "  <th>index</th>             <td>-3.415e-07</td> <td> 1.56e-07</td> <td>   -2.192</td> <td> 0.028</td> <td>-6.47e-07</td> <td>-3.62e-08</td>\n",
       "</tr>\n",
       "<tr>\n",
       "  <th>beer/ABV</th>          <td>   -0.0438</td> <td>    0.001</td> <td>  -40.461</td> <td> 0.000</td> <td>   -0.046</td> <td>   -0.042</td>\n",
       "</tr>\n",
       "<tr>\n",
       "  <th>beer/beerId</th>       <td>-3.799e-07</td> <td> 1.44e-07</td> <td>   -2.646</td> <td> 0.008</td> <td>-6.61e-07</td> <td>-9.85e-08</td>\n",
       "</tr>\n",
       "<tr>\n",
       "  <th>beer/brewerId</th>     <td>-3.494e-07</td> <td> 5.02e-07</td> <td>   -0.696</td> <td> 0.486</td> <td>-1.33e-06</td> <td> 6.34e-07</td>\n",
       "</tr>\n",
       "<tr>\n",
       "  <th>review/appearance</th> <td>    0.0693</td> <td>    0.004</td> <td>   15.613</td> <td> 0.000</td> <td>    0.061</td> <td>    0.078</td>\n",
       "</tr>\n",
       "<tr>\n",
       "  <th>review/aroma</th>      <td>    0.0952</td> <td>    0.005</td> <td>   20.610</td> <td> 0.000</td> <td>    0.086</td> <td>    0.104</td>\n",
       "</tr>\n",
       "<tr>\n",
       "  <th>review/palate</th>     <td>    0.2690</td> <td>    0.005</td> <td>   55.647</td> <td> 0.000</td> <td>    0.260</td> <td>    0.279</td>\n",
       "</tr>\n",
       "<tr>\n",
       "  <th>review/taste</th>      <td>    0.5426</td> <td>    0.005</td> <td>  109.939</td> <td> 0.000</td> <td>    0.533</td> <td>    0.552</td>\n",
       "</tr>\n",
       "<tr>\n",
       "  <th>review/timeUnix</th>   <td> 3.456e-10</td> <td> 1.28e-11</td> <td>   26.968</td> <td> 0.000</td> <td>  3.2e-10</td> <td> 3.71e-10</td>\n",
       "</tr>\n",
       "</table>\n",
       "<table class=\"simpletable\">\n",
       "<tr>\n",
       "  <th>Omnibus:</th>       <td>1943.329</td> <th>  Durbin-Watson:     </th> <td>   2.002</td>\n",
       "</tr>\n",
       "<tr>\n",
       "  <th>Prob(Omnibus):</th>  <td> 0.000</td>  <th>  Jarque-Bera (JB):  </th> <td>5716.171</td>\n",
       "</tr>\n",
       "<tr>\n",
       "  <th>Skew:</th>           <td>-0.242</td>  <th>  Prob(JB):          </th> <td>    0.00</td>\n",
       "</tr>\n",
       "<tr>\n",
       "  <th>Kurtosis:</th>       <td> 4.851</td>  <th>  Cond. No.          </th> <td>3.68e+09</td>\n",
       "</tr>\n",
       "</table><br/><br/>Warnings:<br/>[1] Standard Errors assume that the covariance matrix of the errors is correctly specified.<br/>[2] The condition number is large, 3.68e+09. This might indicate that there are<br/>strong multicollinearity or other numerical problems."
      ],
      "text/plain": [
       "<class 'statsmodels.iolib.summary.Summary'>\n",
       "\"\"\"\n",
       "                                 OLS Regression Results                                \n",
       "=======================================================================================\n",
       "Dep. Variable:         review/overall   R-squared (uncentered):                   0.990\n",
       "Model:                            OLS   Adj. R-squared (uncentered):              0.990\n",
       "Method:                 Least Squares   F-statistic:                          3.954e+05\n",
       "Date:                Wed, 04 Nov 2020   Prob (F-statistic):                        0.00\n",
       "Time:                        21:54:27   Log-Likelihood:                         -19158.\n",
       "No. Observations:               37485   AIC:                                  3.833e+04\n",
       "Df Residuals:                   37476   BIC:                                  3.841e+04\n",
       "Df Model:                           9                                                  \n",
       "Covariance Type:            nonrobust                                                  \n",
       "=====================================================================================\n",
       "                        coef    std err          t      P>|t|      [0.025      0.975]\n",
       "-------------------------------------------------------------------------------------\n",
       "index             -3.415e-07   1.56e-07     -2.192      0.028   -6.47e-07   -3.62e-08\n",
       "beer/ABV             -0.0438      0.001    -40.461      0.000      -0.046      -0.042\n",
       "beer/beerId       -3.799e-07   1.44e-07     -2.646      0.008   -6.61e-07   -9.85e-08\n",
       "beer/brewerId     -3.494e-07   5.02e-07     -0.696      0.486   -1.33e-06    6.34e-07\n",
       "review/appearance     0.0693      0.004     15.613      0.000       0.061       0.078\n",
       "review/aroma          0.0952      0.005     20.610      0.000       0.086       0.104\n",
       "review/palate         0.2690      0.005     55.647      0.000       0.260       0.279\n",
       "review/taste          0.5426      0.005    109.939      0.000       0.533       0.552\n",
       "review/timeUnix    3.456e-10   1.28e-11     26.968      0.000     3.2e-10    3.71e-10\n",
       "==============================================================================\n",
       "Omnibus:                     1943.329   Durbin-Watson:                   2.002\n",
       "Prob(Omnibus):                  0.000   Jarque-Bera (JB):             5716.171\n",
       "Skew:                          -0.242   Prob(JB):                         0.00\n",
       "Kurtosis:                       4.851   Cond. No.                     3.68e+09\n",
       "==============================================================================\n",
       "\n",
       "Warnings:\n",
       "[1] Standard Errors assume that the covariance matrix of the errors is correctly specified.\n",
       "[2] The condition number is large, 3.68e+09. This might indicate that there are\n",
       "strong multicollinearity or other numerical problems.\n",
       "\"\"\""
      ]
     },
     "execution_count": 61,
     "metadata": {},
     "output_type": "execute_result"
    }
   ],
   "source": [
    "import statsmodels.api as sms\n",
    "\n",
    "# OLS(dependent,independent)\n",
    "lm = sms.OLS(y,x)\n",
    "model = lm.fit()\n",
    "model.summary()"
   ]
  },
  {
   "cell_type": "code",
   "execution_count": null,
   "metadata": {},
   "outputs": [],
   "source": [
    "##---------------END-----------##."
   ]
  }
 ],
 "metadata": {
  "kernelspec": {
   "display_name": "Python 3",
   "language": "python",
   "name": "python3"
  },
  "language_info": {
   "codemirror_mode": {
    "name": "ipython",
    "version": 3
   },
   "file_extension": ".py",
   "mimetype": "text/x-python",
   "name": "python",
   "nbconvert_exporter": "python",
   "pygments_lexer": "ipython3",
   "version": "3.7.4"
  }
 },
 "nbformat": 4,
 "nbformat_minor": 2
}
